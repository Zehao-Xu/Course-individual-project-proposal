{
 "cells": [
  {
   "cell_type": "markdown",
   "id": "fa4a50fe",
   "metadata": {},
   "source": [
    "## Analysis 1: Social Num Strangers on Relationship Status\n",
    "\n",
    "Question: Does interacting with strangers improve people's relationship status?\n",
    "\n",
    "Hypothesis: I expect that people who interact with strangers will have better relationship status on average compared to those who do not.\n",
    "\n",
    "I will look at \"Social Num Strangers\" and \"Relationship Status\" from the dataset to see if social engagement affects relationship status through creating histograms, The histograms should show the overall distribution. Then I will use an independent t-test to compare the relationship status of participants and non-participants. This will help determine if there is a significant difference. \n",
    "\n",
    "## Analysis 2: Analysis 2: Age and levels of loneliness\n",
    "\n",
    "Question: Is there a connection between age and levels of loneliness?\n",
    "\n",
    "Hypothesis: I suppose that age has no affects on levels of loneliness.\n",
    "\n",
    "I will use \"Age\" and \"LONELY_direct\" as the main variables.I will create a scatter plot to show the relationship between age and levels of loneliness, adding a regression line to see any trends. Then I will use a simple linear regression analysis to explore whether age affects levels of loneliness. The null hypothesis would be that the slope is zero: there is no relationship between age and levels of loneliness. After performing the simple linear regression, if the p-value for the slope coefficient is less than the significance level, we will reject the null hypothesis and conclude that there is a significant relationship between age and loneliness. If the p-value is greater, we will conclude that age does not significantly predict loneliness.\n",
    "\n",
    "## Analysis 3: Age and Board games activities\n",
    "\n",
    "Question: Is there a relationship between age and engagement in activities like board games?\n",
    "\n",
    "Hypothesis: I expect that younger people may be more likely to engage in activities like board games compared to older individuals.\n",
    "\n",
    "I will use \"Age\" and \"Activities_Board_Games\" from the dataset and I will use a scatter plot to visualize the relationship between age and participation in board games activities. The null hypothesis is that age does not significantly predict participation in board games activities, while the alternative hypothesis is that age does have a significant effect."
   ]
  }
 ],
 "metadata": {
  "kernelspec": {
   "display_name": "Python 3 (ipykernel)",
   "language": "python",
   "name": "python3"
  },
  "language_info": {
   "codemirror_mode": {
    "name": "ipython",
    "version": 3
   },
   "file_extension": ".py",
   "mimetype": "text/x-python",
   "name": "python",
   "nbconvert_exporter": "python",
   "pygments_lexer": "ipython3",
   "version": "3.11.6"
  }
 },
 "nbformat": 4,
 "nbformat_minor": 5
}
